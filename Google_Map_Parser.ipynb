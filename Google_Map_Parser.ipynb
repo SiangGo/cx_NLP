{
 "cells": [
  {
   "cell_type": "code",
   "execution_count": 1,
   "id": "1d77891b",
   "metadata": {},
   "outputs": [
    {
     "name": "stdout",
     "output_type": "stream",
     "text": [
      "\n"
     ]
    },
    {
     "name": "stderr",
     "output_type": "stream",
     "text": [
      "[WDM] - ====== WebDriver manager ======\n",
      "[WDM] - Current google-chrome version is 102.0.5005\n",
      "[WDM] - Get LATEST chromedriver version for 102.0.5005 google-chrome\n",
      "[WDM] - Driver [/Users/sgo/.wdm/drivers/chromedriver/mac64_m1/102.0.5005.61/chromedriver] found in cache\n",
      "/var/folders/j5/d8bm9_0n5rv71d349szjs_980000gn/T/ipykernel_27934/2159926137.py:11: DeprecationWarning: executable_path has been deprecated, please pass in a Service object\n",
      "  driver = webdriver.Chrome(ChromeDriverManager().install())\n"
     ]
    }
   ],
   "source": [
    "from selenium import webdriver\n",
    "from webdriver_manager.chrome import ChromeDriverManager\n",
    "from selenium.webdriver.common.by import By\n",
    "import time\n",
    "from bs4 import BeautifulSoup\n",
    "import requests\n",
    "\n",
    "# As there are possibilities of different chrome\n",
    "# browser and we are not sure under which it get\n",
    "# executed let us use the below syntax\n",
    "driver = webdriver.Chrome(ChromeDriverManager().install())"
   ]
  },
  {
   "cell_type": "code",
   "execution_count": 2,
   "id": "8812c369",
   "metadata": {},
   "outputs": [
    {
     "data": {
      "text/plain": [
       "'https://www.google.com/maps/place/Ya+The+Mandarin+Room'"
      ]
     },
     "execution_count": 2,
     "metadata": {},
     "output_type": "execute_result"
    }
   ],
   "source": [
    "# from selenium import webdriver\n",
    "# driver = webdriver.Chrome()\n",
    "#London Victoria & Albert Museum URL\n",
    "# url = 'https://www.google.com/maps/place/Victoria+and+Albert+Museum/@51.4966392,-0.17218,15z/data=!4m5!3m4!1s0x0:0x9eb7094dfdcd651f!8m2!3d51.4966392!4d-0.17218'\n",
    "\n",
    "# search = 'Pinakothek der Moderne'\n",
    "# search = 'SEEN RESTAURANT'\n",
    "search = 'Ya The Mandarin Room'\n",
    "search = '+'.join(search.split(' '))\n",
    "\n",
    "url = f'https://www.google.com/maps/place/{search}'\n",
    "driver.get(url)\n",
    "url"
   ]
  },
  {
   "cell_type": "code",
   "execution_count": 3,
   "id": "47104a42",
   "metadata": {},
   "outputs": [],
   "source": [
    "driver.find_element(by=By.XPATH, \n",
    "                    value='//*[@id=\"searchbox-searchbutton\"]').click()\n",
    "time.sleep(2)"
   ]
  },
  {
   "cell_type": "code",
   "execution_count": 4,
   "id": "8c890a51",
   "metadata": {},
   "outputs": [],
   "source": [
    "driver.find_element(by=By.CLASS_NAME, \n",
    "                    value='DkEaL').click()\n",
    "time.sleep(2)"
   ]
  },
  {
   "cell_type": "code",
   "execution_count": 5,
   "id": "ad8e0bfd",
   "metadata": {},
   "outputs": [],
   "source": [
    "# try:\n",
    "#     driver.find_element(By.CLASS_NAME, \"widget-pane-link\").click()\n",
    "# except Exception:\n",
    "#     response = BeautifulSoup(driver.page_source, 'html.parser')\n",
    "#     # Check if there are any paid ads and avoid them\n",
    "#     if response.find_all('span', {'class': 'ARktye-badge'}):\n",
    "#         ad_count = len(response.find_all('span', {'class': 'ARktye-badge'}))\n",
    "#         li = driver.find_elements(By.CLASS_NAME, \"a4gq8e-aVTXAb-haAclf-jRmmHf-hSRGPd\")\n",
    "#         li[ad_count].click()\n",
    "#     else:\n",
    "#         driver.find_element(By.CLASS_NAME, \"a4gq8e-aVTXAb-haAclf-jRmmHf-hSRGPd\").click()\n",
    "#         time.sleep(5)\n",
    "#     driver.find_element(By.CLASS_NAME, \"widget-pane-link\").click()"
   ]
  },
  {
   "cell_type": "code",
   "execution_count": 6,
   "id": "c74b7c8b",
   "metadata": {},
   "outputs": [
    {
     "data": {
      "text/plain": [
       "430"
      ]
     },
     "execution_count": 6,
     "metadata": {},
     "output_type": "execute_result"
    }
   ],
   "source": [
    "total_number_of_reviews = driver.find_element(By.XPATH, \"//*[@class='fontBodySmall']\").text.split(\" \")[0]\n",
    "total_number_of_reviews = int(total_number_of_reviews.replace('.','')) if '.' in total_number_of_reviews else int(total_number_of_reviews)\n",
    "\n",
    "total_number_of_reviews"
   ]
  },
  {
   "cell_type": "code",
   "execution_count": 7,
   "id": "9151bca8",
   "metadata": {},
   "outputs": [],
   "source": [
    "#Find scroll layout\n",
    "scrollable_div = driver.find_element(By.XPATH, \"//*[@id='QA0Szd']/div/div/div[1]/div[2]/div/div[1]/div/div/div[2]\")"
   ]
  },
  {
   "cell_type": "code",
   "execution_count": 8,
   "id": "94b06c5f",
   "metadata": {},
   "outputs": [],
   "source": [
    "count = 0\n",
    "#Scroll as many times as necessary to load all reviews\n",
    "for i in range(0,(round(total_number_of_reviews/10 - 1))):\n",
    "    more = driver.find_elements(by=By.XPATH, \n",
    "                    value='//*[@aria-label=\"Mehr\"]')\n",
    "    for m in more:\n",
    "        m.click()\n",
    "    driver.execute_script('arguments[0].scrollTop = arguments[0].scrollHeight', \n",
    "            scrollable_div)\n",
    "    time.sleep(2)\n",
    "    count+=1\n",
    "    if 2*count > 300: break"
   ]
  },
  {
   "cell_type": "code",
   "execution_count": 9,
   "id": "08882ce6",
   "metadata": {},
   "outputs": [],
   "source": [
    "response = BeautifulSoup(driver.page_source, 'html.parser')\n",
    "texts = response.find_all('span', class_='wiI7pd')\n",
    "rates = response.find_all('div', class_='DU9Pgb')"
   ]
  },
  {
   "cell_type": "code",
   "execution_count": 10,
   "id": "0a9b9a68",
   "metadata": {},
   "outputs": [],
   "source": [
    "def get_review_summary(text_set, rate_set):\n",
    "    rev_dict = {'Review Text': [],\n",
    "               'Review Rate': [],\n",
    "               'Review Time': []}\n",
    "    for text, rate in zip(text_set, rates):\n",
    "        review_rate = rate.find('span', class_='kvMYJc')[\"aria-label\"].strip()[0]\n",
    "        review_time = rate.find('span',class_='rsqaWe').text\n",
    "        review_text = text.text\n",
    "        rev_dict['Review Rate'].append(review_rate)\n",
    "        rev_dict['Review Time'].append(review_time)\n",
    "        rev_dict['Review Text'].append(review_text)\n",
    "    import pandas as pd    \n",
    "    return(pd.DataFrame(rev_dict))\n",
    "\n",
    "df = get_review_summary(texts, rates)"
   ]
  },
  {
   "cell_type": "code",
   "execution_count": 11,
   "id": "e9d61fc1",
   "metadata": {},
   "outputs": [
    {
     "data": {
      "text/html": [
       "<div>\n",
       "<style scoped>\n",
       "    .dataframe tbody tr th:only-of-type {\n",
       "        vertical-align: middle;\n",
       "    }\n",
       "\n",
       "    .dataframe tbody tr th {\n",
       "        vertical-align: top;\n",
       "    }\n",
       "\n",
       "    .dataframe thead th {\n",
       "        text-align: right;\n",
       "    }\n",
       "</style>\n",
       "<table border=\"1\" class=\"dataframe\">\n",
       "  <thead>\n",
       "    <tr style=\"text-align: right;\">\n",
       "      <th></th>\n",
       "      <th>Review Text</th>\n",
       "      <th>Review Rate</th>\n",
       "      <th>Review Time</th>\n",
       "      <th>search</th>\n",
       "      <th>insert_date</th>\n",
       "    </tr>\n",
       "  </thead>\n",
       "  <tbody>\n",
       "    <tr>\n",
       "      <th>0</th>\n",
       "      <td>Der erste Eindruck lässt einem schon direkt de...</td>\n",
       "      <td>5</td>\n",
       "      <td>vor 5 Monaten</td>\n",
       "      <td>Ya+The+Mandarin+Room</td>\n",
       "      <td>2022-06-26</td>\n",
       "    </tr>\n",
       "    <tr>\n",
       "      <th>1</th>\n",
       "      <td>Sehr gutes asiatisches Restaurant, wo man in M...</td>\n",
       "      <td>5</td>\n",
       "      <td>vor einer Woche</td>\n",
       "      <td>Ya+The+Mandarin+Room</td>\n",
       "      <td>2022-06-26</td>\n",
       "    </tr>\n",
       "    <tr>\n",
       "      <th>2</th>\n",
       "      <td>Sehr schön eingerichtetes Restaurant! Service ...</td>\n",
       "      <td>5</td>\n",
       "      <td>vor 4 Monaten</td>\n",
       "      <td>Ya+The+Mandarin+Room</td>\n",
       "      <td>2022-06-26</td>\n",
       "    </tr>\n",
       "    <tr>\n",
       "      <th>3</th>\n",
       "      <td>Die Atmosphäre in dem Restaurant war sehr cool...</td>\n",
       "      <td>5</td>\n",
       "      <td>vor einem Monat</td>\n",
       "      <td>Ya+The+Mandarin+Room</td>\n",
       "      <td>2022-06-26</td>\n",
       "    </tr>\n",
       "    <tr>\n",
       "      <th>4</th>\n",
       "      <td>Waren am Sonntag Abend das erste Mal im Ya und...</td>\n",
       "      <td>5</td>\n",
       "      <td>vor einem Monat</td>\n",
       "      <td>Ya+The+Mandarin+Room</td>\n",
       "      <td>2022-06-26</td>\n",
       "    </tr>\n",
       "    <tr>\n",
       "      <th>...</th>\n",
       "      <td>...</td>\n",
       "      <td>...</td>\n",
       "      <td>...</td>\n",
       "      <td>...</td>\n",
       "      <td>...</td>\n",
       "    </tr>\n",
       "    <tr>\n",
       "      <th>425</th>\n",
       "      <td></td>\n",
       "      <td>5</td>\n",
       "      <td>vor 10 Monaten</td>\n",
       "      <td>Ya+The+Mandarin+Room</td>\n",
       "      <td>2022-06-26</td>\n",
       "    </tr>\n",
       "    <tr>\n",
       "      <th>426</th>\n",
       "      <td></td>\n",
       "      <td>5</td>\n",
       "      <td>vor 3 Monaten</td>\n",
       "      <td>Ya+The+Mandarin+Room</td>\n",
       "      <td>2022-06-26</td>\n",
       "    </tr>\n",
       "    <tr>\n",
       "      <th>427</th>\n",
       "      <td></td>\n",
       "      <td>5</td>\n",
       "      <td>vor einem Monat</td>\n",
       "      <td>Ya+The+Mandarin+Room</td>\n",
       "      <td>2022-06-26</td>\n",
       "    </tr>\n",
       "    <tr>\n",
       "      <th>428</th>\n",
       "      <td></td>\n",
       "      <td>5</td>\n",
       "      <td>vor 10 Monaten</td>\n",
       "      <td>Ya+The+Mandarin+Room</td>\n",
       "      <td>2022-06-26</td>\n",
       "    </tr>\n",
       "    <tr>\n",
       "      <th>429</th>\n",
       "      <td></td>\n",
       "      <td>5</td>\n",
       "      <td>vor 3 Monaten</td>\n",
       "      <td>Ya+The+Mandarin+Room</td>\n",
       "      <td>2022-06-26</td>\n",
       "    </tr>\n",
       "  </tbody>\n",
       "</table>\n",
       "<p>430 rows × 5 columns</p>\n",
       "</div>"
      ],
      "text/plain": [
       "                                           Review Text Review Rate  \\\n",
       "0    Der erste Eindruck lässt einem schon direkt de...           5   \n",
       "1    Sehr gutes asiatisches Restaurant, wo man in M...           5   \n",
       "2    Sehr schön eingerichtetes Restaurant! Service ...           5   \n",
       "3    Die Atmosphäre in dem Restaurant war sehr cool...           5   \n",
       "4    Waren am Sonntag Abend das erste Mal im Ya und...           5   \n",
       "..                                                 ...         ...   \n",
       "425                                                              5   \n",
       "426                                                              5   \n",
       "427                                                              5   \n",
       "428                                                              5   \n",
       "429                                                              5   \n",
       "\n",
       "         Review Time                search insert_date  \n",
       "0      vor 5 Monaten  Ya+The+Mandarin+Room  2022-06-26  \n",
       "1    vor einer Woche  Ya+The+Mandarin+Room  2022-06-26  \n",
       "2      vor 4 Monaten  Ya+The+Mandarin+Room  2022-06-26  \n",
       "3    vor einem Monat  Ya+The+Mandarin+Room  2022-06-26  \n",
       "4    vor einem Monat  Ya+The+Mandarin+Room  2022-06-26  \n",
       "..               ...                   ...         ...  \n",
       "425   vor 10 Monaten  Ya+The+Mandarin+Room  2022-06-26  \n",
       "426    vor 3 Monaten  Ya+The+Mandarin+Room  2022-06-26  \n",
       "427  vor einem Monat  Ya+The+Mandarin+Room  2022-06-26  \n",
       "428   vor 10 Monaten  Ya+The+Mandarin+Room  2022-06-26  \n",
       "429    vor 3 Monaten  Ya+The+Mandarin+Room  2022-06-26  \n",
       "\n",
       "[430 rows x 5 columns]"
      ]
     },
     "execution_count": 11,
     "metadata": {},
     "output_type": "execute_result"
    }
   ],
   "source": [
    "from datetime import date\n",
    "\n",
    "df['search']=search\n",
    "df['insert_date']=date.today()\n",
    "\n",
    "df"
   ]
  },
  {
   "cell_type": "code",
   "execution_count": 12,
   "id": "157ace92",
   "metadata": {},
   "outputs": [
    {
     "name": "stdout",
     "output_type": "stream",
     "text": [
      "Today's date: 2022-06-26\n"
     ]
    }
   ],
   "source": [
    "\n",
    "today = date.today()\n",
    "print(\"Today's date:\", today)"
   ]
  },
  {
   "cell_type": "code",
   "execution_count": 13,
   "id": "f7a03feb",
   "metadata": {},
   "outputs": [],
   "source": [
    "df.to_csv(f'{search}.csv', index=False)"
   ]
  },
  {
   "cell_type": "code",
   "execution_count": 14,
   "id": "1c41b8c8",
   "metadata": {},
   "outputs": [],
   "source": [
    "f'{search}.csv'\n",
    "driver.close()"
   ]
  }
 ],
 "metadata": {
  "kernelspec": {
   "display_name": "Python 3 (ipykernel)",
   "language": "python",
   "name": "python3"
  },
  "language_info": {
   "codemirror_mode": {
    "name": "ipython",
    "version": 3
   },
   "file_extension": ".py",
   "mimetype": "text/x-python",
   "name": "python",
   "nbconvert_exporter": "python",
   "pygments_lexer": "ipython3",
   "version": "3.8.13"
  }
 },
 "nbformat": 4,
 "nbformat_minor": 5
}
